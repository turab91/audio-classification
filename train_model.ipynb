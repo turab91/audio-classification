{
 "cells": [
  {
   "cell_type": "markdown",
   "metadata": {
    "colab_type": "text",
    "id": "T7-xrcmu4xTK"
   },
   "source": [
    "### Import Libraries"
   ]
  },
  {
   "cell_type": "code",
   "execution_count": null,
   "metadata": {
    "colab": {},
    "colab_type": "code",
    "id": "aiixOgO33xx5"
   },
   "outputs": [],
   "source": [
    "import numpy as np\n",
    "import pickle\n",
    "import os\n",
    "import sys\n",
    "import matplotlib.pyplot as plt\n",
    "import tensorflow as tf\n",
    "from tensorflow.keras.layers import Input, Conv2D, MaxPool2D, Flatten\n",
    "from tensorflow.keras.layers import Dropout, Dense\n",
    "from tensorflow.keras.models import Model\n",
    "from sklearn.utils.class_weight import compute_class_weight\n",
    "\n",
    "file_dir = \".\"\n",
    "sys.path.append(file_dir)\n",
    "from parameters import Config"
   ]
  },
  {
   "cell_type": "code",
   "execution_count": null,
   "metadata": {
    "colab": {},
    "colab_type": "code",
    "id": "NWlEjCO5noiM"
   },
   "outputs": [],
   "source": [
    "def load_data(config: object) -> object:\n",
    "    \"\"\"\n",
    "    check if the data is already prepared for the model\n",
    "    :param config: object\n",
    "    :return tmp: object containing data and other parameters\n",
    "    \"\"\"\n",
    "    if os.path.isfile(config.pickle_path):\n",
    "        print(f'Loading existing data for {config.mode} model')\n",
    "        with open(config.pickle_path, 'rb') as pfile:\n",
    "            tmp = pickle.load(pfile)\n",
    "            return tmp\n",
    "    else:\n",
    "        raise RuntimeError('No pickle file exist')\n",
    "\n",
    "\n",
    "class myCallback(tf.keras.callbacks.Callback):\n",
    "    \"\"\"\n",
    "    Control how much the model will train.\n",
    "    \"\"\"\n",
    "    def __init__(self, accuracy_threshold=0.9, print_message=True):\n",
    "        self.accuracy_threshold = accuracy_threshold\n",
    "        self.print_message = print_message\n",
    "\n",
    "    def on_epoch_end(self, epoch, logs={}):\n",
    "        if logs.get('acc') > self.accuracy_threshold:\n",
    "            if self.print_message:\n",
    "                print(\"\\n90% accuracy reached. stopping training....\")\n",
    "            self.model.stop_training = True\n",
    "        else:\n",
    "            if self.print_message:\n",
    "                print(\"Accuracy not high enough. continue training....\")\n",
    "\n",
    "def plot_loss_accuracy(model, target_accuracy=0.9, title=None):\n",
    "    \"\"\"\n",
    "    :param model: The trained model\n",
    "    :param target_accuracy: Accuracy we want to achieve\n",
    "    :param title: title of the graph\n",
    "    :return:\n",
    "    \"\"\"\n",
    "    epoch_ = np.array(model.history.epoch) + 1  \n",
    "    loss_ = np.array(model.history.history['loss'])\n",
    "    accuracy_ = np.array(model.history.history['acc'])\n",
    "\n",
    "    fig, ax1 = plt.subplots()\n",
    "\n",
    "    color = 'tab:red'\n",
    "    ax1.set_xlabel('Epochs', fontsize=15)\n",
    "    ax1.set_ylabel('Loss', color=color, fontsize=15)\n",
    "    ax1.plot(epoch_, loss_, color=color, lw=2)\n",
    "    ax1.tick_params(axis='y', labelcolor=color)\n",
    "    ax1.grid(True)\n",
    "\n",
    "    ax2 = ax1.twinx()  \n",
    "\n",
    "    color = 'tab:blue'\n",
    "    ax2.set_ylabel('Accuracy', color=color, fontsize=15)  \n",
    "    ax2.plot(epoch_, accuracy_, color=color, lw=2)\n",
    "    ax2.tick_params(axis='y', labelcolor=color)\n",
    "\n",
    "    fig.tight_layout()  \n",
    "    if title != None:\n",
    "        plt.title(title)\n",
    "    plt.hlines(y=target_accuracy, xmin=1, xmax=epoch_.max(), colors='k', linestyles='dashed', lw=3)\n",
    "\n",
    "\n",
    "def compile_train_model(model, x_train:np.ndarray, y_train: np.ndarray, callbacks=None,\n",
    "                        learning_rate=0.001, batch_size=32, epochs=10, verbose=1):\n",
    "    \"\"\"\n",
    "    Compiles and train a given model. Uses Adam Optimizer\n",
    "    :param model: The model to train\n",
    "    :param x_train: Training data\n",
    "    :param y_train: Training label\n",
    "    :param callbacks: controls how the model will be trained\n",
    "    :param learning_rate: learning rate for the optimizer\n",
    "    :param batch_size: mini-batch size\n",
    "    :param epochs: number of epochs to train\n",
    "    :param verbose: Verbosity of training\n",
    "    :return: trained_model\n",
    "    \"\"\"\n",
    "    # get the index of each class label\n",
    "    y_index = np.argmax(y_train, axis=1)\n",
    "\n",
    "    model.compile(loss='categorical_crossentropy',\n",
    "                  optimizer='adam',\n",
    "                  metrics=['acc'])\n",
    "\n",
    "    # to remove class inbalance\n",
    "    class_weight = compute_class_weight('balanced', np.unique(y_index), y_index)\n",
    "\n",
    "    model.fit(x_train, y_train, epochs=epochs, batch_size=batch_size, shuffle=True,\n",
    "              class_weight=class_weight, validation_split=0.1, callbacks=[callbacks],\n",
    "              verbose=verbose)\n",
    "    \n",
    "def get_conv_model(input_shape: tuple) -> Model:\n",
    "    \n",
    "    # shape of data for Conv is (n, time, feature, 1)\n",
    "    inp = Input(shape=input_shape)\n",
    "    \n",
    "    x = Conv2D(16, (3, 3), activation='relu', strides=(1, 1), padding='same')(inp)\n",
    "    x = Conv2D(32, (3, 3), activation='relu', strides=(1, 1), padding='same')(x)\n",
    "    x = Conv2D(64, (3, 3), activation='relu', strides=(1, 1), padding='same')(x)\n",
    "    \n",
    "    x = MaxPool2D((2, 2))(x)\n",
    "    x = Dropout(0.5)(x)\n",
    "    x = Flatten()(x)\n",
    "    \n",
    "    x = Dense(64, activation='relu')(x)\n",
    "    out = Dense(10, activation='softmax')(x)\n",
    "    \n",
    "    model = Model(inputs=inp, outputs=out)\n",
    "    \n",
    "    model.summary()\n",
    "\n",
    "    return model"
   ]
  },
  {
   "cell_type": "markdown",
   "metadata": {
    "colab_type": "text",
    "id": "fSMBeWCE_cPe"
   },
   "source": [
    "### Model"
   ]
  },
  {
   "cell_type": "code",
   "execution_count": null,
   "metadata": {
    "colab": {
     "base_uri": "https://localhost:8080/",
     "height": 908
    },
    "colab_type": "code",
    "id": "buIJBRCz_dCB",
    "outputId": "4cc0be67-07ea-4fa1-b39f-5dbd168a2b38"
   },
   "outputs": [
    {
     "name": "stdout",
     "output_type": "stream",
     "text": [
      "Model: \"model_1\"\n",
      "_________________________________________________________________\n",
      "Layer (type)                 Output Shape              Param #   \n",
      "=================================================================\n",
      "input_2 (InputLayer)         [(None, 9, 13, 1)]        0         \n",
      "_________________________________________________________________\n",
      "conv2d_3 (Conv2D)            (None, 9, 13, 16)         160       \n",
      "_________________________________________________________________\n",
      "conv2d_4 (Conv2D)            (None, 9, 13, 32)         4640      \n",
      "_________________________________________________________________\n",
      "conv2d_5 (Conv2D)            (None, 9, 13, 64)         18496     \n",
      "_________________________________________________________________\n",
      "max_pooling2d_1 (MaxPooling2 (None, 4, 6, 64)          0         \n",
      "_________________________________________________________________\n",
      "dropout_1 (Dropout)          (None, 4, 6, 64)          0         \n",
      "_________________________________________________________________\n",
      "flatten_1 (Flatten)          (None, 1536)              0         \n",
      "_________________________________________________________________\n",
      "dense_2 (Dense)              (None, 64)                98368     \n",
      "_________________________________________________________________\n",
      "dense_3 (Dense)              (None, 10)                650       \n",
      "=================================================================\n",
      "Total params: 122,314\n",
      "Trainable params: 122,314\n",
      "Non-trainable params: 0\n",
      "_________________________________________________________________\n",
      "Train on 23769 samples, validate on 2641 samples\n",
      "Epoch 1/10\n",
      "23744/23769 [============================>.] - ETA: 0s - loss: 1.2167 - acc: 0.5669Accuracy not high enough. continue training....\n",
      "23769/23769 [==============================] - 3s 134us/sample - loss: 1.2163 - acc: 0.5671 - val_loss: 0.6907 - val_acc: 0.7675\n",
      "Epoch 2/10\n",
      "23392/23769 [============================>.] - ETA: 0s - loss: 0.6507 - acc: 0.7782Accuracy not high enough. continue training....\n",
      "23769/23769 [==============================] - 3s 125us/sample - loss: 0.6492 - acc: 0.7784 - val_loss: 0.4259 - val_acc: 0.8523\n",
      "Epoch 3/10\n",
      "23456/23769 [============================>.] - ETA: 0s - loss: 0.4879 - acc: 0.8325Accuracy not high enough. continue training....\n",
      "23769/23769 [==============================] - 3s 125us/sample - loss: 0.4871 - acc: 0.8326 - val_loss: 0.3179 - val_acc: 0.8955\n",
      "Epoch 4/10\n",
      "23360/23769 [============================>.] - ETA: 0s - loss: 0.4044 - acc: 0.8610Accuracy not high enough. continue training....\n",
      "23769/23769 [==============================] - 3s 123us/sample - loss: 0.4045 - acc: 0.8608 - val_loss: 0.2896 - val_acc: 0.9004\n",
      "Epoch 5/10\n",
      "23392/23769 [============================>.] - ETA: 0s - loss: 0.3427 - acc: 0.8802Accuracy not high enough. continue training....\n",
      "23769/23769 [==============================] - 3s 124us/sample - loss: 0.3444 - acc: 0.8799 - val_loss: 0.2359 - val_acc: 0.9258\n",
      "Epoch 6/10\n",
      "23552/23769 [============================>.] - ETA: 0s - loss: 0.3039 - acc: 0.8950Accuracy not high enough. continue training....\n",
      "23769/23769 [==============================] - 3s 126us/sample - loss: 0.3035 - acc: 0.8950 - val_loss: 0.2215 - val_acc: 0.9224\n",
      "Epoch 7/10\n",
      "23552/23769 [============================>.] - ETA: 0s - loss: 0.2777 - acc: 0.9037\n",
      "90% accuracy reached. stopping training....\n",
      "23769/23769 [==============================] - 3s 126us/sample - loss: 0.2773 - acc: 0.9038 - val_loss: 0.2173 - val_acc: 0.9246\n"
     ]
    }
   ],
   "source": [
    "config = Config(file_path=file_dir, mode='conv')\n",
    "dataset = load_data(config)\n",
    "\n",
    "if config.mode == 'conv':\n",
    "    x_train, y_train = dataset['X'], dataset['y']\n",
    "    # input_shape for keras conv\n",
    "    input_shape = (x_train.shape[1], x_train.shape[2], 1)\n",
    "    model = get_conv_model(input_shape=input_shape)\n",
    "\n",
    "\n",
    "callbacks = myCallback(accuracy_threshold=0.9)\n",
    "compile_train_model(model, x_train, y_train, callbacks=callbacks, verbose=1)"
   ]
  },
  {
   "cell_type": "code",
   "execution_count": null,
   "metadata": {
    "colab": {
     "base_uri": "https://localhost:8080/",
     "height": 310
    },
    "colab_type": "code",
    "id": "qmhLczuPpchV",
    "outputId": "2c9485d9-a2f5-4a58-b33d-ce28839f90f6"
   },
   "outputs": [
    {
     "data": {
      "image/png": "[encoded data removed]",
      "text/plain": [
       "<Figure size 432x288 with 2 Axes>"
      ]
     },
     "metadata": {
      "tags": []
     },
     "output_type": "display_data"
    }
   ],
   "source": [
    "plot_loss_accuracy(model, target_accuracy=0.9, title=\"loss-acc per epoch\")\n",
    "plt.savefig(os.path.join(file_dir, 'loss-acc.png'), bbox_inches='tight')\n",
    "plt.show()"
   ]
  }
 ],
 "metadata": {
  "accelerator": "GPU",
  "colab": {
   "collapsed_sections": [
    "7-w98qvb4rfU"
   ],
   "name": "conv-model-demo-2.ipynb",
   "provenance": [],
   "version": "0.3.2"
  },
  "kernelspec": {
   "display_name": "Python 3",
   "language": "python",
   "name": "python3"
  },
  "language_info": {
   "codemirror_mode": {
    "name": "ipython",
    "version": 3
   },
   "file_extension": ".py",
   "mimetype": "text/x-python",
   "name": "python",
   "nbconvert_exporter": "python",
   "pygments_lexer": "ipython3",
   "version": "3.7.3"
  }
 },
 "nbformat": 4,
 "nbformat_minor": 4
}
